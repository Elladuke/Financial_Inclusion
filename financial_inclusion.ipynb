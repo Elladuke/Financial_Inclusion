# Financial inclusion project
# Name: Immanuella Duke
# Description: This project predicts whether a given person has a bank account or not.
# Link to hackathon: https://zindi.africa/competitions/financial-inclusion-in-africa


#import libraries

import pandas as pd
import numpy as np
import matplotlib.pyplot as plt


train_data = pd.read_csv("Train_v2.csv")
train_data.head()


# Data Exploration stage
# import the Data
print("like it")



# check for correlations in the Data

# encode the categorical variables


# Data Modelling stage