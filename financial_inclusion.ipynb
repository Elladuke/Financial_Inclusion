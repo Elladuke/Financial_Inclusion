# Financial inclusion project
# Name: Immanuella Duke
# Description: This project predicts whether a given person has a bank account or not.
# Link to hackathon: https://zindi.africa/competitions/financial-inclusion-in-africa


