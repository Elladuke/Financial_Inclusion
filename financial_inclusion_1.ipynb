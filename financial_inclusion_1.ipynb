{
 "metadata": {
  "language_info": {
   "codemirror_mode": {
    "name": "ipython",
    "version": 3
   },
   "file_extension": ".py",
   "mimetype": "text/x-python",
   "name": "python",
   "nbconvert_exporter": "python",
   "pygments_lexer": "ipython3",
   "version": 3
  },
  "orig_nbformat": 2
 },
 "nbformat": 4,
 "nbformat_minor": 2,
 "cells": [
  {
   "cell_type": "code",
   "execution_count": null,
   "metadata": {},
   "outputs": [],
   "source": [
    "# Financial inclusion project\n",
    "# Name: Immanuella Duke\n",
    "# Description: This project predicts whether a given person has a bank account or not.\n",
    "# Link to hackathon: https://zindi.africa/competitions/financial-inclusion-in-africa\n"
   ]
  },
  {
   "cell_type": "code",
   "execution_count": null,
   "metadata": {},
   "outputs": [],
   "source": [
    "#import libraries\n",
    "\n",
    "import pandas as pd\n",
    "import numpy as np\n",
    "import matplotlib.pyplot as plt\n",
    "\n",
    "\n",
    "train_data = pd.read_csv(\"Train_v2.csv\")\n",
    "train_data.head()\n",
    "\n",
    "\n",
    "# Data Exploration stage\n",
    "# import the Data\n",
    "print(\"like it\")\n",
    "\n"
   ]
  },
  {
   "cell_type": "code",
   "execution_count": null,
   "metadata": {},
   "outputs": [],
   "source": [
    "# check for correlations in the Data\n",
    "\n",
    "# encode the categorical variables\n",
    "\n",
    "\n",
    "# Data Modelling stage"
   ]
  }
 ]
}