{
 "metadata": {
  "language_info": {
   "codemirror_mode": {
    "name": "ipython",
    "version": 3
   },
   "file_extension": ".py",
   "mimetype": "text/x-python",
   "name": "python",
   "nbconvert_exporter": "python",
   "pygments_lexer": "ipython3",
   "version": "3.7.4-final"
  },
  "orig_nbformat": 2,
  "kernelspec": {
   "name": "python3",
   "display_name": "Python 3",
   "language": "python"
  }
 },
 "nbformat": 4,
 "nbformat_minor": 2,
 "cells": [
  {
   "cell_type": "code",
   "execution_count": null,
   "metadata": {},
   "outputs": [],
   "source": [
    "# Financial inclusion project\n",
    "# Name: Immanuella Duke\n",
    "# Description: This project predicts whether a given person has a bank account or not.\n",
    "# Link to hackathon: https://zindi.africa/competitions/financial-inclusion-in-africa\n"
   ]
  },
  {
   "source": [
    "## Import libraries"
   ],
   "cell_type": "markdown",
   "metadata": {}
  },
  {
   "cell_type": "code",
   "execution_count": 1,
   "metadata": {},
   "outputs": [],
   "source": [
    "\n",
    "\n",
    "import pandas as pd\n",
    "import numpy as np\n",
    "import matplotlib.pyplot as plt"
   ]
  },
  {
   "source": [
    "## Data Exploration stage"
   ],
   "cell_type": "markdown",
   "metadata": {}
  },
  {
   "cell_type": "code",
   "execution_count": 101,
   "metadata": {},
   "outputs": [],
   "source": [
    "# import the training data\n",
    "train_data = pd.read_csv(\"Train_v2.csv\")\n",
    "#test x\n",
    "test_X = pd.read_csv(\"Test_v2.csv\")\n"
   ]
  },
  {
   "source": [
    "### Encode column items"
   ],
   "cell_type": "markdown",
   "metadata": {}
  },
  {
   "cell_type": "code",
   "execution_count": 36,
   "metadata": {},
   "outputs": [
    {
     "output_type": "execute_result",
     "data": {
      "text/plain": [
       "  country  year    uniqueid location_type cellphone_access  household_size  \\\n",
       "0   Kenya  2018  uniqueid_1         Rural              Yes               3   \n",
       "\n",
       "   age_of_respondent gender_of_respondent relationship_with_head  \\\n",
       "0                 24               Female                 Spouse   \n",
       "\n",
       "            marital_status      education_level       job_type  \n",
       "0  Married/Living together  Secondary education  Self employed  "
      ],
      "text/html": "<div>\n<style scoped>\n    .dataframe tbody tr th:only-of-type {\n        vertical-align: middle;\n    }\n\n    .dataframe tbody tr th {\n        vertical-align: top;\n    }\n\n    .dataframe thead th {\n        text-align: right;\n    }\n</style>\n<table border=\"1\" class=\"dataframe\">\n  <thead>\n    <tr style=\"text-align: right;\">\n      <th></th>\n      <th>country</th>\n      <th>year</th>\n      <th>uniqueid</th>\n      <th>location_type</th>\n      <th>cellphone_access</th>\n      <th>household_size</th>\n      <th>age_of_respondent</th>\n      <th>gender_of_respondent</th>\n      <th>relationship_with_head</th>\n      <th>marital_status</th>\n      <th>education_level</th>\n      <th>job_type</th>\n    </tr>\n  </thead>\n  <tbody>\n    <tr>\n      <th>0</th>\n      <td>Kenya</td>\n      <td>2018</td>\n      <td>uniqueid_1</td>\n      <td>Rural</td>\n      <td>Yes</td>\n      <td>3</td>\n      <td>24</td>\n      <td>Female</td>\n      <td>Spouse</td>\n      <td>Married/Living together</td>\n      <td>Secondary education</td>\n      <td>Self employed</td>\n    </tr>\n  </tbody>\n</table>\n</div>"
     },
     "metadata": {},
     "execution_count": 36
    }
   ],
   "source": [
    "train_X.head(1)"
   ]
  },
  {
   "cell_type": "code",
   "execution_count": 46,
   "metadata": {},
   "outputs": [
    {
     "output_type": "execute_result",
     "data": {
      "text/plain": [
       "Self employed                   6437\n",
       "Informally employed             5597\n",
       "Farming and Fishing             5441\n",
       "Remittance Dependent            2527\n",
       "Other Income                    1080\n",
       "Formally employed Private       1055\n",
       "No Income                        627\n",
       "Formally employed Government     387\n",
       "Government Dependent             247\n",
       "Dont Know/Refuse to answer       126\n",
       "Name: job_type, dtype: int64"
      ]
     },
     "metadata": {},
     "execution_count": 46
    }
   ],
   "source": [
    "train_X['job_type'].value_counts()"
   ]
  },
  {
   "cell_type": "code",
   "execution_count": 102,
   "metadata": {},
   "outputs": [],
   "source": [
    "# check for correlations in the Data\n",
    "\n",
    "# encode categorical variables\n",
    "\n",
    "clean_upX = {'country': {'Rwanda':0, 'Tanzania': 1, 'Kenya':2, 'Uganda': 3},\n",
    "'location_type': {'Rural':0, 'Urban': 1},\n",
    "'cellphone_access': {'Yes': 0, 'No': 1},\n",
    "'gender_of_respondent': {'Female': 0, 'Male': 1},\n",
    "'relationship_with_head': {'Head of Household': 0, 'Spouse': 1, 'Child': 2, 'Parent': 3, 'Other relative': 4, 'Other non-relatives': 5},\n",
    "'marital_status': {'Married/Living together': 0, 'Single/Never Married': 1, 'Widowed': 2, 'Divorced/Seperated': 3, 'Dont know': 4},\n",
    "'education_level': {'Primary education': 0, 'No formal education': 1, 'Secondary education': 2, \n",
    "                    'Tertiary education': 3, 'Vocational/Specialised training':4,'Other/Dont know/RTA': 5 },\n",
    "'job_type': {'Self employed': 0, 'Informally employed': 1, 'Farming and Fishing': 2, 'Remittance Dependent':3, 'Other Income':4,\n",
    "                     'Formally employed Private': 5, 'No Income': 6, 'Formally employed Government': 7, 'Government Dependent': 8, 'Dont Know/Refuse to answer': 9 },\n",
    "                     'bank_account': {'Yes': 0, 'No': 1}\n",
    "}\n",
    "\n",
    "# replace columns\n",
    "train_data.replace(clean_upX, inplace=True)"
   ]
  },
  {
   "cell_type": "code",
   "execution_count": 103,
   "metadata": {},
   "outputs": [
    {
     "output_type": "execute_result",
     "data": {
      "text/plain": [
       "0        0\n",
       "1        1\n",
       "2        0\n",
       "3        1\n",
       "4        1\n",
       "        ..\n",
       "23519    1\n",
       "23520    1\n",
       "23521    1\n",
       "23522    1\n",
       "23523    1\n",
       "Name: bank_account, Length: 23524, dtype: int64"
      ]
     },
     "metadata": {},
     "execution_count": 103
    }
   ],
   "source": [
    "# training y\n",
    "train_Y = train_data['bank_account']\n",
    "train_Y"
   ]
  },
  {
   "cell_type": "code",
   "execution_count": 104,
   "metadata": {},
   "outputs": [
    {
     "output_type": "execute_result",
     "data": {
      "text/plain": [
       "       country  year       uniqueid  location_type  cellphone_access  \\\n",
       "0            2  2018     uniqueid_1              0                 0   \n",
       "1            2  2018     uniqueid_2              0                 1   \n",
       "2            2  2018     uniqueid_3              1                 0   \n",
       "3            2  2018     uniqueid_4              0                 0   \n",
       "4            2  2018     uniqueid_5              1                 1   \n",
       "...        ...   ...            ...            ...               ...   \n",
       "23519        3  2018  uniqueid_2113              0                 0   \n",
       "23520        3  2018  uniqueid_2114              0                 0   \n",
       "23521        3  2018  uniqueid_2115              0                 0   \n",
       "23522        3  2018  uniqueid_2116              1                 0   \n",
       "23523        3  2018  uniqueid_2117              0                 0   \n",
       "\n",
       "       household_size  age_of_respondent  gender_of_respondent  \\\n",
       "0                   3                 24                     0   \n",
       "1                   5                 70                     0   \n",
       "2                   5                 26                     1   \n",
       "3                   5                 34                     0   \n",
       "4                   8                 26                     1   \n",
       "...               ...                ...                   ...   \n",
       "23519               4                 48                     0   \n",
       "23520               2                 27                     0   \n",
       "23521               5                 27                     0   \n",
       "23522               7                 30                     0   \n",
       "23523              10                 20                     1   \n",
       "\n",
       "       relationship_with_head  marital_status  education_level  job_type  \n",
       "0                           1               0                2         0  \n",
       "1                           0               2                1         8  \n",
       "2                           4               1                4         0  \n",
       "3                           0               0                0         5  \n",
       "4                           2               1                0         1  \n",
       "...                       ...             ...              ...       ...  \n",
       "23519                       0               3                1         4  \n",
       "23520                       0               1                2         4  \n",
       "23521                       3               2                0         4  \n",
       "23522                       3               3                2         0  \n",
       "23523                       2               1                2         6  \n",
       "\n",
       "[23524 rows x 12 columns]"
      ],
      "text/html": "<div>\n<style scoped>\n    .dataframe tbody tr th:only-of-type {\n        vertical-align: middle;\n    }\n\n    .dataframe tbody tr th {\n        vertical-align: top;\n    }\n\n    .dataframe thead th {\n        text-align: right;\n    }\n</style>\n<table border=\"1\" class=\"dataframe\">\n  <thead>\n    <tr style=\"text-align: right;\">\n      <th></th>\n      <th>country</th>\n      <th>year</th>\n      <th>uniqueid</th>\n      <th>location_type</th>\n      <th>cellphone_access</th>\n      <th>household_size</th>\n      <th>age_of_respondent</th>\n      <th>gender_of_respondent</th>\n      <th>relationship_with_head</th>\n      <th>marital_status</th>\n      <th>education_level</th>\n      <th>job_type</th>\n    </tr>\n  </thead>\n  <tbody>\n    <tr>\n      <th>0</th>\n      <td>2</td>\n      <td>2018</td>\n      <td>uniqueid_1</td>\n      <td>0</td>\n      <td>0</td>\n      <td>3</td>\n      <td>24</td>\n      <td>0</td>\n      <td>1</td>\n      <td>0</td>\n      <td>2</td>\n      <td>0</td>\n    </tr>\n    <tr>\n      <th>1</th>\n      <td>2</td>\n      <td>2018</td>\n      <td>uniqueid_2</td>\n      <td>0</td>\n      <td>1</td>\n      <td>5</td>\n      <td>70</td>\n      <td>0</td>\n      <td>0</td>\n      <td>2</td>\n      <td>1</td>\n      <td>8</td>\n    </tr>\n    <tr>\n      <th>2</th>\n      <td>2</td>\n      <td>2018</td>\n      <td>uniqueid_3</td>\n      <td>1</td>\n      <td>0</td>\n      <td>5</td>\n      <td>26</td>\n      <td>1</td>\n      <td>4</td>\n      <td>1</td>\n      <td>4</td>\n      <td>0</td>\n    </tr>\n    <tr>\n      <th>3</th>\n      <td>2</td>\n      <td>2018</td>\n      <td>uniqueid_4</td>\n      <td>0</td>\n      <td>0</td>\n      <td>5</td>\n      <td>34</td>\n      <td>0</td>\n      <td>0</td>\n      <td>0</td>\n      <td>0</td>\n      <td>5</td>\n    </tr>\n    <tr>\n      <th>4</th>\n      <td>2</td>\n      <td>2018</td>\n      <td>uniqueid_5</td>\n      <td>1</td>\n      <td>1</td>\n      <td>8</td>\n      <td>26</td>\n      <td>1</td>\n      <td>2</td>\n      <td>1</td>\n      <td>0</td>\n      <td>1</td>\n    </tr>\n    <tr>\n      <th>...</th>\n      <td>...</td>\n      <td>...</td>\n      <td>...</td>\n      <td>...</td>\n      <td>...</td>\n      <td>...</td>\n      <td>...</td>\n      <td>...</td>\n      <td>...</td>\n      <td>...</td>\n      <td>...</td>\n      <td>...</td>\n    </tr>\n    <tr>\n      <th>23519</th>\n      <td>3</td>\n      <td>2018</td>\n      <td>uniqueid_2113</td>\n      <td>0</td>\n      <td>0</td>\n      <td>4</td>\n      <td>48</td>\n      <td>0</td>\n      <td>0</td>\n      <td>3</td>\n      <td>1</td>\n      <td>4</td>\n    </tr>\n    <tr>\n      <th>23520</th>\n      <td>3</td>\n      <td>2018</td>\n      <td>uniqueid_2114</td>\n      <td>0</td>\n      <td>0</td>\n      <td>2</td>\n      <td>27</td>\n      <td>0</td>\n      <td>0</td>\n      <td>1</td>\n      <td>2</td>\n      <td>4</td>\n    </tr>\n    <tr>\n      <th>23521</th>\n      <td>3</td>\n      <td>2018</td>\n      <td>uniqueid_2115</td>\n      <td>0</td>\n      <td>0</td>\n      <td>5</td>\n      <td>27</td>\n      <td>0</td>\n      <td>3</td>\n      <td>2</td>\n      <td>0</td>\n      <td>4</td>\n    </tr>\n    <tr>\n      <th>23522</th>\n      <td>3</td>\n      <td>2018</td>\n      <td>uniqueid_2116</td>\n      <td>1</td>\n      <td>0</td>\n      <td>7</td>\n      <td>30</td>\n      <td>0</td>\n      <td>3</td>\n      <td>3</td>\n      <td>2</td>\n      <td>0</td>\n    </tr>\n    <tr>\n      <th>23523</th>\n      <td>3</td>\n      <td>2018</td>\n      <td>uniqueid_2117</td>\n      <td>0</td>\n      <td>0</td>\n      <td>10</td>\n      <td>20</td>\n      <td>1</td>\n      <td>2</td>\n      <td>1</td>\n      <td>2</td>\n      <td>6</td>\n    </tr>\n  </tbody>\n</table>\n<p>23524 rows × 12 columns</p>\n</div>"
     },
     "metadata": {},
     "execution_count": 104
    }
   ],
   "source": [
    "#training x\n",
    "train_X = train_data[['country','year', 'uniqueid','location_type', 'cellphone_access', 'household_size',\n",
    "                    'age_of_respondent' ,'gender_of_respondent', 'relationship_with_head', 'marital_status', \n",
    "                    'education_level', 'job_type']]\n",
    "train_X"
   ]
  },
  {
   "cell_type": "code",
   "execution_count": null,
   "metadata": {},
   "outputs": [],
   "source": [
    "## heatmap for correlations"
   ]
  }
 ]
}